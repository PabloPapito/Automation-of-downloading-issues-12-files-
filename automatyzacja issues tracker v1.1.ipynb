{
 "cells": [
  {
   "cell_type": "code",
   "execution_count": 42,
   "id": "eb14eb76",
   "metadata": {},
   "outputs": [],
   "source": [
    "# pip install selenium"
   ]
  },
  {
   "cell_type": "code",
   "execution_count": 43,
   "id": "aea1fb32-fbcf-4bea-a6b4-8c4aefe0359f",
   "metadata": {},
   "outputs": [],
   "source": [
    "from selenium import webdriver\n",
    "from selenium.webdriver.common.by import By\n",
    "import time, os, glob\n",
    "# import os\n",
    "# import glob"
   ]
  },
  {
   "cell_type": "code",
   "execution_count": 44,
   "id": "80b23db6-e128-4895-bf6b-2cf35a6ebb15",
   "metadata": {},
   "outputs": [],
   "source": [
    "driver = webdriver.Chrome()"
   ]
  },
  {
   "cell_type": "code",
   "execution_count": 45,
   "id": "9886dd7c-afad-4dc4-8197-805a4e0af06f",
   "metadata": {},
   "outputs": [],
   "source": [
    "# UK IN\n",
    "driver.get('https://site.amazon.com/issues?&marketplace_id=3&direction=I')\n",
    "driver.refresh()\n",
    "issues_tracker = driver.find_element(By.XPATH,\"//button[@id='btn_download_issues_report']\").click()"
   ]
  },
  {
   "cell_type": "code",
   "execution_count": 46,
   "id": "3c6f1696-2468-4970-96d2-fc0c81f2c0b3",
   "metadata": {},
   "outputs": [],
   "source": [
    "time.sleep(5)"
   ]
  },
  {
   "cell_type": "code",
   "execution_count": 47,
   "id": "b76563ba-a5fe-47ba-9867-e1cbb355ecab",
   "metadata": {},
   "outputs": [],
   "source": [
    "uk_in_find = glob.glob(r'C:\\Users\\pawgolen\\Downloads\\*UTC.csv')\n",
    "uk_in = uk_in_find[0]\n",
    "\n",
    "os.rename(uk_in, r'C:\\Users\\pawgolen\\Downloads\\UK_IN.csv')"
   ]
  },
  {
   "cell_type": "code",
   "execution_count": 48,
   "id": "ab796fa0-1a4b-40b3-b16e-4742f2b8bd14",
   "metadata": {},
   "outputs": [],
   "source": [
    "#UK OUT\n",
    "driver.get('https://site.amazon.com/issues?&marketplace_id=3&direction=O')\n",
    "issues_tracker = driver.find_element(By.XPATH,\"//button[@id='btn_download_issues_report']\").click()"
   ]
  },
  {
   "cell_type": "code",
   "execution_count": 49,
   "id": "a1ca90b5-91c8-4517-83d3-477d4df940fa",
   "metadata": {
    "tags": []
   },
   "outputs": [],
   "source": [
    "time.sleep(5)"
   ]
  },
  {
   "cell_type": "code",
   "execution_count": 50,
   "id": "472a5eea-7ad5-45e7-aef6-afe4b7762123",
   "metadata": {},
   "outputs": [],
   "source": [
    "uk_out_find = glob.glob(r'C:\\Users\\pawgolen\\Downloads\\*UTC.csv')\n",
    "uk_out = uk_out_find[0]\n",
    "\n",
    "os.rename(uk_out, r'C:\\Users\\pawgolen\\Downloads\\UK_OUT.csv')"
   ]
  },
  {
   "cell_type": "code",
   "execution_count": 51,
   "id": "21502d32-08de-4f54-a3a9-09cd7f859d20",
   "metadata": {},
   "outputs": [],
   "source": [
    "#DE IN\n",
    "driver.get('https://site.amazon.com/issues?&marketplace_id=4&direction=I')\n",
    "issues_tracker = driver.find_element(By.XPATH,\"//button[@id='btn_download_issues_report']\").click()"
   ]
  },
  {
   "cell_type": "code",
   "execution_count": 52,
   "id": "f2f8e1e6-6cb1-4ecc-8dba-7d97703b23f5",
   "metadata": {
    "tags": []
   },
   "outputs": [],
   "source": [
    "time.sleep(5)"
   ]
  },
  {
   "cell_type": "code",
   "execution_count": 53,
   "id": "45673540-3c12-45b3-87b2-979bbd913d97",
   "metadata": {},
   "outputs": [],
   "source": [
    "de_in_find = glob.glob(r'C:\\Users\\pawgolen\\Downloads\\*UTC.csv')\n",
    "de_in = de_in_find[0]\n",
    "\n",
    "os.rename(de_in, r'C:\\Users\\pawgolen\\Downloads\\DE_IN.csv')"
   ]
  },
  {
   "cell_type": "code",
   "execution_count": 54,
   "id": "993cc367-dc19-4282-84ef-43272635aa0f",
   "metadata": {},
   "outputs": [],
   "source": [
    "#DE OUT\n",
    "driver.get('https://site.amazon.com/issues?&marketplace_id=4&direction=O')\n",
    "issues_tracker = driver.find_element(By.XPATH,\"//button[@id='btn_download_issues_report']\").click()"
   ]
  },
  {
   "cell_type": "code",
   "execution_count": 55,
   "id": "d84bfd9f-6d02-4e21-a512-92a9620ab4fa",
   "metadata": {},
   "outputs": [],
   "source": [
    "time.sleep(5)"
   ]
  },
  {
   "cell_type": "code",
   "execution_count": 56,
   "id": "8bd1ccef-aa4e-4cc9-8c30-1401b226ff69",
   "metadata": {},
   "outputs": [],
   "source": [
    "de_out_find = glob.glob(r'C:\\Users\\pawgolen\\Downloads\\*UTC.csv')\n",
    "de_out = de_out_find[0]\n",
    "\n",
    "os.rename(de_out, r'C:\\Users\\pawgolen\\Downloads\\DE_OUT.csv')"
   ]
  },
  {
   "cell_type": "code",
   "execution_count": 57,
   "id": "f30416dd-5b95-4fed-b357-088fce652d07",
   "metadata": {},
   "outputs": [],
   "source": [
    "#FR IN\n",
    "driver.get('https://site.amazon.com/issues?&marketplace_id=5&direction=I')\n",
    "issues_tracker = driver.find_element(By.XPATH,\"//button[@id='btn_download_issues_report']\").click()"
   ]
  },
  {
   "cell_type": "code",
   "execution_count": 58,
   "id": "8fe2bb31-1ee5-41d4-96af-d8b975dedbdf",
   "metadata": {},
   "outputs": [],
   "source": [
    "time.sleep(5)"
   ]
  },
  {
   "cell_type": "code",
   "execution_count": 59,
   "id": "bdc76270-4741-4140-b7e5-c74a94232cfd",
   "metadata": {},
   "outputs": [],
   "source": [
    "fr_in_find = glob.glob(r'C:\\Users\\pawgolen\\Downloads\\*UTC.csv')\n",
    "fr_in = fr_in_find[0]\n",
    "\n",
    "os.rename(fr_in, r'C:\\Users\\pawgolen\\Downloads\\FR_IN.csv')"
   ]
  },
  {
   "cell_type": "code",
   "execution_count": 60,
   "id": "6e71ca2f-3318-4709-8b2d-d5de3505f768",
   "metadata": {},
   "outputs": [],
   "source": [
    "#FR OUT\n",
    "driver.get('https://site.amazon.com/issues?&marketplace_id=5&direction=O')\n",
    "issues_tracker = driver.find_element(By.XPATH,\"//button[@id='btn_download_issues_report']\").click()"
   ]
  },
  {
   "cell_type": "code",
   "execution_count": 61,
   "id": "d0e96a26-f2c4-4a6e-94e1-011e6e4e6fc8",
   "metadata": {},
   "outputs": [],
   "source": [
    "time.sleep(5)"
   ]
  },
  {
   "cell_type": "code",
   "execution_count": 62,
   "id": "13664d2a-2369-4134-91f0-52e8937e135e",
   "metadata": {},
   "outputs": [],
   "source": [
    "fr_out_find = glob.glob(r'C:\\Users\\pawgolen\\Downloads\\*UTC.csv')\n",
    "fr_out = fr_out_find[0]\n",
    "\n",
    "os.rename(fr_out, r'C:\\Users\\pawgolen\\Downloads\\FR_OUT.csv')"
   ]
  },
  {
   "cell_type": "code",
   "execution_count": 63,
   "id": "c3e1040d-ff5b-4fe2-86ac-8846bbf41a18",
   "metadata": {},
   "outputs": [],
   "source": [
    "#IT IN\n",
    "driver.get('https://site.amazon.com/issues?&marketplace_id=35691&direction=I')\n",
    "issues_tracker = driver.find_element(By.XPATH,\"//button[@id='btn_download_issues_report']\").click()"
   ]
  },
  {
   "cell_type": "code",
   "execution_count": 64,
   "id": "325f3ff4-f444-4dc4-afc8-c39c2c13ef5e",
   "metadata": {},
   "outputs": [],
   "source": [
    "time.sleep(5)"
   ]
  },
  {
   "cell_type": "code",
   "execution_count": 65,
   "id": "7a7a2355-d1d5-4000-8139-eb12f56e3dbf",
   "metadata": {},
   "outputs": [],
   "source": [
    "it_in_find = glob.glob(r'C:\\Users\\pawgolen\\Downloads\\*UTC.csv')\n",
    "it_in = it_in_find[0]\n",
    "\n",
    "os.rename(it_in, r'C:\\Users\\pawgolen\\Downloads\\IT_IN.csv')"
   ]
  },
  {
   "cell_type": "code",
   "execution_count": 66,
   "id": "0d6719c8-fb1e-4705-a4f1-64d7d95faad3",
   "metadata": {},
   "outputs": [],
   "source": [
    "#IT OUT\n",
    "driver.get('https://site.amazon.com/issues?&marketplace_id=35691&direction=O')\n",
    "issues_tracker = driver.find_element(By.XPATH,\"//button[@id='btn_download_issues_report']\").click()"
   ]
  },
  {
   "cell_type": "code",
   "execution_count": 67,
   "id": "da114d10-4f6a-475a-a3e2-fca7c35d6ada",
   "metadata": {},
   "outputs": [],
   "source": [
    "time.sleep(5)"
   ]
  },
  {
   "cell_type": "code",
   "execution_count": 68,
   "id": "bbc55cd3-4aea-4784-b8fb-92a2083ac15a",
   "metadata": {},
   "outputs": [],
   "source": [
    "it_out_find = glob.glob(r'C:\\Users\\pawgolen\\Downloads\\*UTC.csv')\n",
    "it_out = it_out_find[0]\n",
    "\n",
    "os.rename(it_out, r'C:\\Users\\pawgolen\\Downloads\\IT_OUT.csv')"
   ]
  },
  {
   "cell_type": "code",
   "execution_count": 69,
   "id": "360140d6-63ac-4ba7-a8ae-fd7160a392f4",
   "metadata": {},
   "outputs": [],
   "source": [
    "#ES IN\n",
    "driver.get('https://site.amazon.com/issues?&marketplace_id=44551&direction=I')\n",
    "issues_tracker = driver.find_element(By.XPATH,\"//button[@id='btn_download_issues_report']\").click()"
   ]
  },
  {
   "cell_type": "code",
   "execution_count": 70,
   "id": "6f1e9276-9bb7-4457-a80f-b60af2f89c46",
   "metadata": {},
   "outputs": [],
   "source": [
    "time.sleep(5)"
   ]
  },
  {
   "cell_type": "code",
   "execution_count": 71,
   "id": "45b5632f-9514-4649-8bad-341d2a429aa2",
   "metadata": {},
   "outputs": [],
   "source": [
    "es_in_find = glob.glob(r'C:\\Users\\pawgolen\\Downloads\\*UTC.csv')\n",
    "es_in = es_in_find[0]\n",
    "\n",
    "os.rename(es_in, r'C:\\Users\\pawgolen\\Downloads\\ES_IN.csv')"
   ]
  },
  {
   "cell_type": "code",
   "execution_count": 72,
   "id": "7c222f32-6931-47db-a94c-d0b5f829b5e9",
   "metadata": {},
   "outputs": [],
   "source": [
    "#ES OUT\n",
    "driver.get('https://site.amazon.com/issues?&marketplace_id=44551&direction=O')\n",
    "issues_tracker = driver.find_element(By.XPATH,\"//button[@id='btn_download_issues_report']\").click()"
   ]
  },
  {
   "cell_type": "code",
   "execution_count": 73,
   "id": "d5cf9fb9-ad1a-48be-b13a-d02c4b7840ce",
   "metadata": {},
   "outputs": [],
   "source": [
    "time.sleep(5)"
   ]
  },
  {
   "cell_type": "code",
   "execution_count": 74,
   "id": "cb7c60f0-aa98-4b80-b94c-dfc356bd87fb",
   "metadata": {},
   "outputs": [],
   "source": [
    "es_out_find = glob.glob(r'C:\\Users\\pawgolen\\Downloads\\*UTC.csv')\n",
    "es_out = es_out_find[0]\n",
    "\n",
    "os.rename(es_out, r'C:\\Users\\pawgolen\\Downloads\\ES_OUT.csv')"
   ]
  },
  {
   "cell_type": "code",
   "execution_count": 75,
   "id": "1ff77ccd-230a-40fd-a172-36a973cff5af",
   "metadata": {},
   "outputs": [],
   "source": [
    "#SE IN\n",
    "driver.get('https://site.amazon.com/issues?&marketplace_id=704403121&direction=I')\n",
    "issues_tracker = driver.find_element(By.XPATH,\"//button[@id='btn_download_issues_report']\").click()"
   ]
  },
  {
   "cell_type": "code",
   "execution_count": 76,
   "id": "f9a03613-2313-42e0-9287-e154cdef8405",
   "metadata": {},
   "outputs": [],
   "source": [
    "time.sleep(5)"
   ]
  },
  {
   "cell_type": "code",
   "execution_count": 77,
   "id": "e8ea2985-1848-4105-bb68-e70a429858eb",
   "metadata": {},
   "outputs": [],
   "source": [
    "se_in_find = glob.glob(r'C:\\Users\\pawgolen\\Downloads\\*UTC.csv')\n",
    "se_in = se_in_find[0]\n",
    "\n",
    "os.rename(se_in, r'C:\\Users\\pawgolen\\Downloads\\SE_IN.csv')"
   ]
  },
  {
   "cell_type": "code",
   "execution_count": 78,
   "id": "f906ae79-4266-4ac7-ab8b-a314d21a2e0d",
   "metadata": {},
   "outputs": [],
   "source": [
    "#SE OUT\n",
    "driver.get('https://site.amazon.com/issues?&marketplace_id=704403121&direction=O')\n",
    "issues_tracker = driver.find_element(By.XPATH,\"//button[@id='btn_download_issues_report']\").click()"
   ]
  },
  {
   "cell_type": "code",
   "execution_count": 79,
   "id": "378f8a09-a81c-4295-bb7c-d6fa31b077d5",
   "metadata": {},
   "outputs": [],
   "source": [
    "time.sleep(5)"
   ]
  },
  {
   "cell_type": "code",
   "execution_count": 80,
   "id": "812f417a-5a55-4eb9-ae56-b56701b36880",
   "metadata": {},
   "outputs": [],
   "source": [
    "se_out_find = glob.glob(r'C:\\Users\\pawgolen\\Downloads\\*UTC.csv')\n",
    "se_out = se_out_find[0]\n",
    "\n",
    "os.rename(se_out, r'C:\\Users\\pawgolen\\Downloads\\SE_OUT.csv')"
   ]
  },
  {
   "cell_type": "code",
   "execution_count": 81,
   "id": "844b5ce3-d581-4d49-8a34-06607c3eb9f6",
   "metadata": {},
   "outputs": [
    {
     "name": "stdout",
     "output_type": "stream",
     "text": [
      "All works folks! :)\n"
     ]
    }
   ],
   "source": [
    "driver.quit()\n",
    "print(f'All works folks! :)')"
   ]
  },
  {
   "cell_type": "code",
   "execution_count": 82,
   "id": "625143dd-bf89-42cc-96af-ad6d30f94030",
   "metadata": {},
   "outputs": [],
   "source": [
    "# CHANGE LOG\n",
    "# - dodanie automatycznego nazywania plików"
   ]
  },
  {
   "cell_type": "code",
   "execution_count": null,
   "id": "c8d51ec7-25ce-49c9-bde6-814837550585",
   "metadata": {},
   "outputs": [],
   "source": []
  },
  {
   "cell_type": "code",
   "execution_count": null,
   "id": "76ca40fd-2490-40df-b572-bc4928504d11",
   "metadata": {},
   "outputs": [],
   "source": []
  }
 ],
 "metadata": {
  "kernelspec": {
   "display_name": "Python 3 (ipykernel)",
   "language": "python",
   "name": "python3"
  },
  "language_info": {
   "codemirror_mode": {
    "name": "ipython",
    "version": 3
   },
   "file_extension": ".py",
   "mimetype": "text/x-python",
   "name": "python",
   "nbconvert_exporter": "python",
   "pygments_lexer": "ipython3",
   "version": "3.9.12"
  }
 },
 "nbformat": 4,
 "nbformat_minor": 5
}
